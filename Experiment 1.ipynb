{
 "cells": [
  {
   "cell_type": "markdown",
   "metadata": {},
   "source": [
    "# Entropy and SVM Anomaly Detection"
   ]
  },
  {
   "cell_type": "code",
   "execution_count": 94,
   "metadata": {},
   "outputs": [
    {
     "name": "stdout",
     "output_type": "stream",
     "text": [
      "The autoreload extension is already loaded. To reload it, use:\n",
      "  %reload_ext autoreload\n"
     ]
    }
   ],
   "source": [
    "%load_ext autoreload\n",
    "%autoreload 2\n",
    "%matplotlib inline\n",
    "\n",
    "import UgrUtils as utils\n",
    "\n",
    "import pandas as pd\n",
    "import numpy as np\n",
    "import matplotlib.pyplot as plt\n",
    "import matplotlib.dates as mdates\n",
    "\n",
    "import datetime\n",
    "from dateutil.parser import parse\n",
    "import collections\n",
    "import math\n",
    "import time\n",
    "import os\n",
    "import subprocess\n",
    "\n",
    "import graphviz as gv\n",
    "import hashlib\n",
    "import pickle\n",
    "\n",
    "from scipy.stats import entropy"
   ]
  },
  {
   "cell_type": "code",
   "execution_count": 4,
   "metadata": {},
   "outputs": [],
   "source": [
    "# experiment parameters\n",
    "timeWindow = 30 * 60 # 30 minutes"
   ]
  },
  {
   "cell_type": "code",
   "execution_count": 16,
   "metadata": {},
   "outputs": [],
   "source": [
    "# read data\n",
    "df = pd.read_csv(\"dataset/2016-06-20_SMTP_100.csv\")"
   ]
  },
  {
   "cell_type": "code",
   "execution_count": 98,
   "metadata": {},
   "outputs": [
    {
     "data": {
      "text/html": [
       "<div>\n",
       "<style>\n",
       "    .dataframe thead tr:only-child th {\n",
       "        text-align: right;\n",
       "    }\n",
       "\n",
       "    .dataframe thead th {\n",
       "        text-align: left;\n",
       "    }\n",
       "\n",
       "    .dataframe tbody tr th {\n",
       "        vertical-align: top;\n",
       "    }\n",
       "</style>\n",
       "<table border=\"1\" class=\"dataframe\">\n",
       "  <thead>\n",
       "    <tr style=\"text-align: right;\">\n",
       "      <th></th>\n",
       "      <th>te</th>\n",
       "      <th>td</th>\n",
       "      <th>sa</th>\n",
       "      <th>da</th>\n",
       "      <th>sp</th>\n",
       "      <th>dp</th>\n",
       "      <th>pr</th>\n",
       "      <th>flg</th>\n",
       "      <th>fwd</th>\n",
       "      <th>stos</th>\n",
       "      <th>pkt</th>\n",
       "      <th>byt</th>\n",
       "      <th>type</th>\n",
       "      <th>timebin</th>\n",
       "    </tr>\n",
       "  </thead>\n",
       "  <tbody>\n",
       "    <tr>\n",
       "      <th>0</th>\n",
       "      <td>2016-06-20 00:07:11</td>\n",
       "      <td>3.324</td>\n",
       "      <td>42.219.145.241</td>\n",
       "      <td>79.28.21.23</td>\n",
       "      <td>25</td>\n",
       "      <td>60052</td>\n",
       "      <td>TCP</td>\n",
       "      <td>.AP.SF</td>\n",
       "      <td>0</td>\n",
       "      <td>0</td>\n",
       "      <td>29</td>\n",
       "      <td>2172</td>\n",
       "      <td>background</td>\n",
       "      <td>814640</td>\n",
       "    </tr>\n",
       "    <tr>\n",
       "      <th>1</th>\n",
       "      <td>2016-06-20 00:07:14</td>\n",
       "      <td>1.960</td>\n",
       "      <td>42.219.156.185</td>\n",
       "      <td>108.66.255.250</td>\n",
       "      <td>54726</td>\n",
       "      <td>25</td>\n",
       "      <td>TCP</td>\n",
       "      <td>.APRS.</td>\n",
       "      <td>0</td>\n",
       "      <td>0</td>\n",
       "      <td>10</td>\n",
       "      <td>827</td>\n",
       "      <td>background</td>\n",
       "      <td>814640</td>\n",
       "    </tr>\n",
       "    <tr>\n",
       "      <th>2</th>\n",
       "      <td>2016-06-20 00:07:24</td>\n",
       "      <td>0.172</td>\n",
       "      <td>42.91.149.234</td>\n",
       "      <td>42.219.159.90</td>\n",
       "      <td>587</td>\n",
       "      <td>23821</td>\n",
       "      <td>TCP</td>\n",
       "      <td>.AP.S.</td>\n",
       "      <td>0</td>\n",
       "      <td>0</td>\n",
       "      <td>4</td>\n",
       "      <td>342</td>\n",
       "      <td>background</td>\n",
       "      <td>814640</td>\n",
       "    </tr>\n",
       "    <tr>\n",
       "      <th>3</th>\n",
       "      <td>2016-06-20 00:07:29</td>\n",
       "      <td>0.812</td>\n",
       "      <td>42.219.156.183</td>\n",
       "      <td>187.35.0.150</td>\n",
       "      <td>48946</td>\n",
       "      <td>25</td>\n",
       "      <td>TCP</td>\n",
       "      <td>.APRS.</td>\n",
       "      <td>0</td>\n",
       "      <td>0</td>\n",
       "      <td>8</td>\n",
       "      <td>515</td>\n",
       "      <td>background</td>\n",
       "      <td>814640</td>\n",
       "    </tr>\n",
       "    <tr>\n",
       "      <th>4</th>\n",
       "      <td>2016-06-20 00:07:30</td>\n",
       "      <td>1.024</td>\n",
       "      <td>42.219.158.179</td>\n",
       "      <td>56.10.179.181</td>\n",
       "      <td>25</td>\n",
       "      <td>61138</td>\n",
       "      <td>TCP</td>\n",
       "      <td>.AP.SF</td>\n",
       "      <td>0</td>\n",
       "      <td>0</td>\n",
       "      <td>8</td>\n",
       "      <td>657</td>\n",
       "      <td>background</td>\n",
       "      <td>814640</td>\n",
       "    </tr>\n",
       "  </tbody>\n",
       "</table>\n",
       "</div>"
      ],
      "text/plain": [
       "                    te     td              sa              da     sp     dp  \\\n",
       "0  2016-06-20 00:07:11  3.324  42.219.145.241     79.28.21.23     25  60052   \n",
       "1  2016-06-20 00:07:14  1.960  42.219.156.185  108.66.255.250  54726     25   \n",
       "2  2016-06-20 00:07:24  0.172   42.91.149.234   42.219.159.90    587  23821   \n",
       "3  2016-06-20 00:07:29  0.812  42.219.156.183    187.35.0.150  48946     25   \n",
       "4  2016-06-20 00:07:30  1.024  42.219.158.179   56.10.179.181     25  61138   \n",
       "\n",
       "    pr     flg  fwd  stos  pkt   byt        type  timebin  \n",
       "0  TCP  .AP.SF    0     0   29  2172  background   814640  \n",
       "1  TCP  .APRS.    0     0   10   827  background   814640  \n",
       "2  TCP  .AP.S.    0     0    4   342  background   814640  \n",
       "3  TCP  .APRS.    0     0    8   515  background   814640  \n",
       "4  TCP  .AP.SF    0     0    8   657  background   814640  "
      ]
     },
     "execution_count": 98,
     "metadata": {},
     "output_type": "execute_result"
    }
   ],
   "source": [
    "df = utils.addTimebin(df, timeWindow)\n",
    "df.head()"
   ]
  },
  {
   "cell_type": "code",
   "execution_count": 20,
   "metadata": {},
   "outputs": [],
   "source": [
    "def ent(data):\n",
    "    p_data= data.value_counts()/len(data) # calculates the probabilities\n",
    "    H=entropy(p_data)  # input probabilities to get the entropy \n",
    "    return H"
   ]
  },
  {
   "cell_type": "code",
   "execution_count": 30,
   "metadata": {},
   "outputs": [],
   "source": [
    "def agg(df, features):\n",
    "    '''\n",
    "    returns list of entropies of supplied features\n",
    "    '''\n",
    "    return [ent(df[feature]) for feature in features]"
   ]
  },
  {
   "cell_type": "code",
   "execution_count": 99,
   "metadata": {},
   "outputs": [],
   "source": [
    "def aggGroups(dfGroups):\n",
    "    features = ['sa', 'da', 'sp', 'dp' , 'flg', 'byt']\n",
    "    data = [[utils.timeBinToDate(l, timeWindow)] + agg(df, features) for l, df in dfGroups]\n",
    "    columns = ['time'] + ['H({})'.format(f) for f in features]\n",
    "    return pd.DataFrame(data, columns = columns)"
   ]
  },
  {
   "cell_type": "code",
   "execution_count": 102,
   "metadata": {},
   "outputs": [],
   "source": [
    "# test\n",
    "df_agg = aggGroups(df.groupby('timebin'))\n",
    "df_agg.head()\n",
    "df_agg.to_csv(\"temp.csv\")"
   ]
  },
  {
   "cell_type": "markdown",
   "metadata": {},
   "source": [
    "## Anomaly Utils"
   ]
  },
  {
   "cell_type": "code",
   "execution_count": 91,
   "metadata": {},
   "outputs": [],
   "source": [
    "def timebinAnom(df, anoms):\n",
    "    # warning, first column of csv has to be changed to 'te' for convenience\n",
    "    df = utils.addTimebin(df, timeWindow)\n",
    "    filteredCols = ['timebin'] + anoms\n",
    "    df = df[filteredCols]\n",
    "    df_agg = df.groupby('timebin').agg(sum)\n",
    "    df_agg['time'] = df_agg.apply(lambda row : utils.timeBinToDate(row.name, timeWindow), axis = 1)\n",
    "    filteredCols = ['time'] + anoms\n",
    "    print(filteredCols)\n",
    "    df_agg = df_agg.reset_index()\n",
    "    df_agg = df_agg[filteredCols]\n",
    "    return df_agg"
   ]
  },
  {
   "cell_type": "code",
   "execution_count": 96,
   "metadata": {},
   "outputs": [
    {
     "name": "stdout",
     "output_type": "stream",
     "text": [
      "['time', 'anomaly-spam']\n"
     ]
    },
    {
     "data": {
      "text/html": [
       "<div>\n",
       "<style>\n",
       "    .dataframe thead tr:only-child th {\n",
       "        text-align: right;\n",
       "    }\n",
       "\n",
       "    .dataframe thead th {\n",
       "        text-align: left;\n",
       "    }\n",
       "\n",
       "    .dataframe tbody tr th {\n",
       "        vertical-align: top;\n",
       "    }\n",
       "</style>\n",
       "<table border=\"1\" class=\"dataframe\">\n",
       "  <thead>\n",
       "    <tr style=\"text-align: right;\">\n",
       "      <th></th>\n",
       "      <th>time</th>\n",
       "      <th>anomaly-spam</th>\n",
       "    </tr>\n",
       "  </thead>\n",
       "  <tbody>\n",
       "    <tr>\n",
       "      <th>0</th>\n",
       "      <td>2016-06-20 00:00:00</td>\n",
       "      <td>0</td>\n",
       "    </tr>\n",
       "    <tr>\n",
       "      <th>1</th>\n",
       "      <td>2016-06-20 00:30:00</td>\n",
       "      <td>0</td>\n",
       "    </tr>\n",
       "    <tr>\n",
       "      <th>2</th>\n",
       "      <td>2016-06-20 01:00:00</td>\n",
       "      <td>0</td>\n",
       "    </tr>\n",
       "    <tr>\n",
       "      <th>3</th>\n",
       "      <td>2016-06-20 01:30:00</td>\n",
       "      <td>0</td>\n",
       "    </tr>\n",
       "    <tr>\n",
       "      <th>4</th>\n",
       "      <td>2016-06-20 02:00:00</td>\n",
       "      <td>0</td>\n",
       "    </tr>\n",
       "  </tbody>\n",
       "</table>\n",
       "</div>"
      ],
      "text/plain": [
       "                 time  anomaly-spam\n",
       "0 2016-06-20 00:00:00             0\n",
       "1 2016-06-20 00:30:00             0\n",
       "2 2016-06-20 01:00:00             0\n",
       "3 2016-06-20 01:30:00             0\n",
       "4 2016-06-20 02:00:00             0"
      ]
     },
     "execution_count": 96,
     "metadata": {},
     "output_type": "execute_result"
    }
   ],
   "source": [
    "anoms = [\"anomaly-spam\"]\n",
    "df_anom = pd.read_csv(\"dataset/attack_ts_june_week4.csv\")\n",
    "df_anom = timebinAnom(df_anom, anoms)\n",
    "df_anom.head()"
   ]
  },
  {
   "cell_type": "code",
   "execution_count": 97,
   "metadata": {},
   "outputs": [
    {
     "data": {
      "text/plain": [
       "<matplotlib.axes._subplots.AxesSubplot at 0x7fcba16d0160>"
      ]
     },
     "execution_count": 97,
     "metadata": {},
     "output_type": "execute_result"
    },
    {
     "data": {
      "image/png": "[encoded data removed]",
      "text/plain": [
       "<Figure size 432x288 with 1 Axes>"
      ]
     },
     "metadata": {},
     "output_type": "display_data"
    }
   ],
   "source": [
    "df_anom.plot(x='time', y = anoms)"
   ]
  },
  {
   "cell_type": "code",
   "execution_count": null,
   "metadata": {},
   "outputs": [],
   "source": []
  }
 ],
 "metadata": {
  "kernelspec": {
   "display_name": "Python 3",
   "language": "python",
   "name": "python3"
  },
  "language_info": {
   "codemirror_mode": {
    "name": "ipython",
    "version": 3
   },
   "file_extension": ".py",
   "mimetype": "text/x-python",
   "name": "python",
   "nbconvert_exporter": "python",
   "pygments_lexer": "ipython3",
   "version": "3.6.4"
  }
 },
 "nbformat": 4,
 "nbformat_minor": 2
}
