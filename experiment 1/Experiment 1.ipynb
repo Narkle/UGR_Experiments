{
 "cells": [
  {
   "cell_type": "markdown",
   "metadata": {},
   "source": [
    "# Entropy and SVM Anomaly Detection"
   ]
  },
  {
   "cell_type": "code",
   "execution_count": 2,
   "metadata": {},
   "outputs": [],
   "source": [
    "%load_ext autoreload\n",
    "%autoreload 2\n",
    "%matplotlib inline\n",
    "\n",
    "import UgrUtils as utils\n",
    "\n",
    "import pandas as pd\n",
    "import numpy as np\n",
    "import matplotlib.pyplot as plt\n",
    "import matplotlib.dates as mdates\n",
    "\n",
    "import datetime\n",
    "from dateutil.parser import parse\n",
    "import collections\n",
    "import math\n",
    "import time\n",
    "import os\n",
    "import subprocess\n",
    "\n",
    "import graphviz as gv\n",
    "import hashlib\n",
    "import pickle\n",
    "\n",
    "from scipy.stats import entropy"
   ]
  },
  {
   "cell_type": "code",
   "execution_count": 34,
   "metadata": {},
   "outputs": [],
   "source": [
    "# experiment parameters\n",
    "timeWindow = 30 * 60 # 30 minutes"
   ]
  },
  {
   "cell_type": "code",
   "execution_count": 4,
   "metadata": {},
   "outputs": [],
   "source": [
    "# read data\n",
    "df = pd.read_csv(\"dataset/2016-06-20_SMTP_100.csv\")"
   ]
  },
  {
   "cell_type": "code",
   "execution_count": 98,
   "metadata": {},
   "outputs": [
    {
     "data": {
      "text/html": [
       "<div>\n",
       "<style>\n",
       "    .dataframe thead tr:only-child th {\n",
       "        text-align: right;\n",
       "    }\n",
       "\n",
       "    .dataframe thead th {\n",
       "        text-align: left;\n",
       "    }\n",
       "\n",
       "    .dataframe tbody tr th {\n",
       "        vertical-align: top;\n",
       "    }\n",
       "</style>\n",
       "<table border=\"1\" class=\"dataframe\">\n",
       "  <thead>\n",
       "    <tr style=\"text-align: right;\">\n",
       "      <th></th>\n",
       "      <th>te</th>\n",
       "      <th>td</th>\n",
       "      <th>sa</th>\n",
       "      <th>da</th>\n",
       "      <th>sp</th>\n",
       "      <th>dp</th>\n",
       "      <th>pr</th>\n",
       "      <th>flg</th>\n",
       "      <th>fwd</th>\n",
       "      <th>stos</th>\n",
       "      <th>pkt</th>\n",
       "      <th>byt</th>\n",
       "      <th>type</th>\n",
       "      <th>timebin</th>\n",
       "    </tr>\n",
       "  </thead>\n",
       "  <tbody>\n",
       "    <tr>\n",
       "      <th>0</th>\n",
       "      <td>2016-06-20 00:07:11</td>\n",
       "      <td>3.324</td>\n",
       "      <td>42.219.145.241</td>\n",
       "      <td>79.28.21.23</td>\n",
       "      <td>25</td>\n",
       "      <td>60052</td>\n",
       "      <td>TCP</td>\n",
       "      <td>.AP.SF</td>\n",
       "      <td>0</td>\n",
       "      <td>0</td>\n",
       "      <td>29</td>\n",
       "      <td>2172</td>\n",
       "      <td>background</td>\n",
       "      <td>814640</td>\n",
       "    </tr>\n",
       "    <tr>\n",
       "      <th>1</th>\n",
       "      <td>2016-06-20 00:07:14</td>\n",
       "      <td>1.960</td>\n",
       "      <td>42.219.156.185</td>\n",
       "      <td>108.66.255.250</td>\n",
       "      <td>54726</td>\n",
       "      <td>25</td>\n",
       "      <td>TCP</td>\n",
       "      <td>.APRS.</td>\n",
       "      <td>0</td>\n",
       "      <td>0</td>\n",
       "      <td>10</td>\n",
       "      <td>827</td>\n",
       "      <td>background</td>\n",
       "      <td>814640</td>\n",
       "    </tr>\n",
       "    <tr>\n",
       "      <th>2</th>\n",
       "      <td>2016-06-20 00:07:24</td>\n",
       "      <td>0.172</td>\n",
       "      <td>42.91.149.234</td>\n",
       "      <td>42.219.159.90</td>\n",
       "      <td>587</td>\n",
       "      <td>23821</td>\n",
       "      <td>TCP</td>\n",
       "      <td>.AP.S.</td>\n",
       "      <td>0</td>\n",
       "      <td>0</td>\n",
       "      <td>4</td>\n",
       "      <td>342</td>\n",
       "      <td>background</td>\n",
       "      <td>814640</td>\n",
       "    </tr>\n",
       "    <tr>\n",
       "      <th>3</th>\n",
       "      <td>2016-06-20 00:07:29</td>\n",
       "      <td>0.812</td>\n",
       "      <td>42.219.156.183</td>\n",
       "      <td>187.35.0.150</td>\n",
       "      <td>48946</td>\n",
       "      <td>25</td>\n",
       "      <td>TCP</td>\n",
       "      <td>.APRS.</td>\n",
       "      <td>0</td>\n",
       "      <td>0</td>\n",
       "      <td>8</td>\n",
       "      <td>515</td>\n",
       "      <td>background</td>\n",
       "      <td>814640</td>\n",
       "    </tr>\n",
       "    <tr>\n",
       "      <th>4</th>\n",
       "      <td>2016-06-20 00:07:30</td>\n",
       "      <td>1.024</td>\n",
       "      <td>42.219.158.179</td>\n",
       "      <td>56.10.179.181</td>\n",
       "      <td>25</td>\n",
       "      <td>61138</td>\n",
       "      <td>TCP</td>\n",
       "      <td>.AP.SF</td>\n",
       "      <td>0</td>\n",
       "      <td>0</td>\n",
       "      <td>8</td>\n",
       "      <td>657</td>\n",
       "      <td>background</td>\n",
       "      <td>814640</td>\n",
       "    </tr>\n",
       "  </tbody>\n",
       "</table>\n",
       "</div>"
      ],
      "text/plain": [
       "                    te     td              sa              da     sp     dp  \\\n",
       "0  2016-06-20 00:07:11  3.324  42.219.145.241     79.28.21.23     25  60052   \n",
       "1  2016-06-20 00:07:14  1.960  42.219.156.185  108.66.255.250  54726     25   \n",
       "2  2016-06-20 00:07:24  0.172   42.91.149.234   42.219.159.90    587  23821   \n",
       "3  2016-06-20 00:07:29  0.812  42.219.156.183    187.35.0.150  48946     25   \n",
       "4  2016-06-20 00:07:30  1.024  42.219.158.179   56.10.179.181     25  61138   \n",
       "\n",
       "    pr     flg  fwd  stos  pkt   byt        type  timebin  \n",
       "0  TCP  .AP.SF    0     0   29  2172  background   814640  \n",
       "1  TCP  .APRS.    0     0   10   827  background   814640  \n",
       "2  TCP  .AP.S.    0     0    4   342  background   814640  \n",
       "3  TCP  .APRS.    0     0    8   515  background   814640  \n",
       "4  TCP  .AP.SF    0     0    8   657  background   814640  "
      ]
     },
     "execution_count": 98,
     "metadata": {},
     "output_type": "execute_result"
    }
   ],
   "source": [
    "df = utils.addTimebin(df, timeWindow)\n",
    "df.head()"
   ]
  },
  {
   "cell_type": "code",
   "execution_count": 20,
   "metadata": {},
   "outputs": [],
   "source": [
    "def ent(data):\n",
    "    p_data= data.value_counts()/len(data) # calculates the probabilities\n",
    "    H=entropy(p_data)  # input probabilities to get the entropy \n",
    "    return H"
   ]
  },
  {
   "cell_type": "code",
   "execution_count": 30,
   "metadata": {},
   "outputs": [],
   "source": [
    "def agg(df, features):\n",
    "    '''\n",
    "    returns list of entropies of supplied features\n",
    "    '''\n",
    "    return [ent(df[feature]) for feature in features]"
   ]
  },
  {
   "cell_type": "code",
   "execution_count": 99,
   "metadata": {},
   "outputs": [],
   "source": [
    "def aggGroups(dfGroups):\n",
    "    features = ['sa', 'da', 'sp', 'dp' , 'flg', 'byt']\n",
    "    data = [[utils.timeBinToDate(l, timeWindow)] + agg(df, features) for l, df in dfGroups]\n",
    "    columns = ['time'] + ['H({})'.format(f) for f in features]\n",
    "    return pd.DataFrame(data, columns = columns)"
   ]
  },
  {
   "cell_type": "code",
   "execution_count": 102,
   "metadata": {},
   "outputs": [],
   "source": [
    "# test\n",
    "df_agg = aggGroups(df.groupby('timebin'))\n",
    "df_agg.head()\n",
    "df_agg.to_csv(\"temp.csv\")"
   ]
  },
  {
   "cell_type": "markdown",
   "metadata": {},
   "source": [
    "## Anomaly Utils"
   ]
  },
  {
   "cell_type": "code",
   "execution_count": 32,
   "metadata": {},
   "outputs": [],
   "source": [
    "def timebinAnom(df, anoms):\n",
    "    # warning, first column of csv has to be changed to 'te' for convenience\n",
    "    df = utils.addTimebin(df, timeWindow)\n",
    "    filteredCols = ['timebin'] + anoms\n",
    "    df = df[filteredCols]\n",
    "    df_agg = df.groupby('timebin').agg(sum)\n",
    "    df_agg['time'] = df_agg.apply(lambda row : utils.timeBinToDate(row.name, timeWindow), axis = 1)\n",
    "    filteredCols = ['time'] + anoms\n",
    "    print(filteredCols)\n",
    "    df_agg = df_agg.reset_index()\n",
    "    df_agg = df_agg[filteredCols]\n",
    "    return df_agg"
   ]
  },
  {
   "cell_type": "code",
   "execution_count": 89,
   "metadata": {},
   "outputs": [
    {
     "name": "stdout",
     "output_type": "stream",
     "text": [
      "['time', 'anomaly-spam']\n"
     ]
    },
    {
     "data": {
      "text/html": [
       "<div>\n",
       "<style>\n",
       "    .dataframe thead tr:only-child th {\n",
       "        text-align: right;\n",
       "    }\n",
       "\n",
       "    .dataframe thead th {\n",
       "        text-align: left;\n",
       "    }\n",
       "\n",
       "    .dataframe tbody tr th {\n",
       "        vertical-align: top;\n",
       "    }\n",
       "</style>\n",
       "<table border=\"1\" class=\"dataframe\">\n",
       "  <thead>\n",
       "    <tr style=\"text-align: right;\">\n",
       "      <th></th>\n",
       "      <th>time</th>\n",
       "      <th>anomaly-spam</th>\n",
       "    </tr>\n",
       "  </thead>\n",
       "  <tbody>\n",
       "    <tr>\n",
       "      <th>320</th>\n",
       "      <td>2016-06-26 16:00:00</td>\n",
       "      <td>30</td>\n",
       "    </tr>\n",
       "    <tr>\n",
       "      <th>321</th>\n",
       "      <td>2016-06-26 16:30:00</td>\n",
       "      <td>30</td>\n",
       "    </tr>\n",
       "    <tr>\n",
       "      <th>322</th>\n",
       "      <td>2016-06-26 17:00:00</td>\n",
       "      <td>30</td>\n",
       "    </tr>\n",
       "    <tr>\n",
       "      <th>323</th>\n",
       "      <td>2016-06-26 17:30:00</td>\n",
       "      <td>21</td>\n",
       "    </tr>\n",
       "    <tr>\n",
       "      <th>324</th>\n",
       "      <td>2016-06-26 18:00:00</td>\n",
       "      <td>0</td>\n",
       "    </tr>\n",
       "  </tbody>\n",
       "</table>\n",
       "</div>"
      ],
      "text/plain": [
       "                   time  anomaly-spam\n",
       "320 2016-06-26 16:00:00            30\n",
       "321 2016-06-26 16:30:00            30\n",
       "322 2016-06-26 17:00:00            30\n",
       "323 2016-06-26 17:30:00            21\n",
       "324 2016-06-26 18:00:00             0"
      ]
     },
     "execution_count": 89,
     "metadata": {},
     "output_type": "execute_result"
    }
   ],
   "source": [
    "anoms = [\"anomaly-spam\"]\n",
    "df_anom = pd.read_csv(\"dataset/attack_ts_june_week4.csv\")\n",
    "df_anom = timebinAnom(df_anom, anoms)\n",
    "df_anom['time'] = pd.to_datetime(df_anom['time'])\n",
    "df_anom.tail()"
   ]
  },
  {
   "cell_type": "code",
   "execution_count": 90,
   "metadata": {},
   "outputs": [
    {
     "data": {
      "text/plain": [
       "<matplotlib.axes._subplots.AxesSubplot at 0x7f061e8d3470>"
      ]
     },
     "execution_count": 90,
     "metadata": {},
     "output_type": "execute_result"
    },
    {
     "data": {
      "image/png": "[encoded data removed]",
      "text/plain": [
       "<Figure size 432x288 with 1 Axes>"
      ]
     },
     "metadata": {},
     "output_type": "display_data"
    }
   ],
   "source": [
    "df_anom.plot(x='time', y = anoms)"
   ]
  },
  {
   "cell_type": "code",
   "execution_count": 97,
   "metadata": {},
   "outputs": [],
   "source": [
    "Y_spam = [0] * len(df_anom) \n",
    "X_spam = list(df_anom['time'])\n",
    "size_spam = list(df_anom['anomaly-spam'])"
   ]
  },
  {
   "cell_type": "markdown",
   "metadata": {},
   "source": [
    "## Entropy Stuff"
   ]
  },
  {
   "cell_type": "code",
   "execution_count": 98,
   "metadata": {},
   "outputs": [],
   "source": [
    "# merge all csvs\n",
    "df1 = pd.read_csv(\"experiment 1/2016-06-20_agg.csv\")\n",
    "df2 = pd.read_csv(\"experiment 1/2016-06-21_agg.csv\")\n",
    "df3 = pd.read_csv(\"experiment 1/2016-06-22_agg.csv\")\n",
    "dfs = [df1, df2, df3]\n",
    "\n",
    "df_agg = pd.concat(dfs, ignore_index=True)\n",
    "df_agg['time'] = pd.to_datetime(df_agg['time'])\n",
    "# from functools import reduce\n",
    "# df_agg = reduce(lambda left, right : pd.append(left, right), dfs) "
   ]
  },
  {
   "cell_type": "code",
   "execution_count": 99,
   "metadata": {},
   "outputs": [
    {
     "data": {
      "text/html": [
       "<div>\n",
       "<style>\n",
       "    .dataframe thead tr:only-child th {\n",
       "        text-align: right;\n",
       "    }\n",
       "\n",
       "    .dataframe thead th {\n",
       "        text-align: left;\n",
       "    }\n",
       "\n",
       "    .dataframe tbody tr th {\n",
       "        vertical-align: top;\n",
       "    }\n",
       "</style>\n",
       "<table border=\"1\" class=\"dataframe\">\n",
       "  <thead>\n",
       "    <tr style=\"text-align: right;\">\n",
       "      <th></th>\n",
       "      <th>time</th>\n",
       "      <th>H(sa)</th>\n",
       "      <th>H(da)</th>\n",
       "      <th>H(sp)</th>\n",
       "      <th>H(dp)</th>\n",
       "      <th>H(flg)</th>\n",
       "      <th>H(byt)</th>\n",
       "      <th>Flows</th>\n",
       "      <th>Bytes</th>\n",
       "    </tr>\n",
       "  </thead>\n",
       "  <tbody>\n",
       "    <tr>\n",
       "      <th>0</th>\n",
       "      <td>2016-06-20 00:00:00</td>\n",
       "      <td>4.786381</td>\n",
       "      <td>4.849955</td>\n",
       "      <td>5.581641</td>\n",
       "      <td>5.077501</td>\n",
       "      <td>1.759142</td>\n",
       "      <td>5.312246</td>\n",
       "      <td>45668</td>\n",
       "      <td>654268794</td>\n",
       "    </tr>\n",
       "    <tr>\n",
       "      <th>1</th>\n",
       "      <td>2016-06-20 00:30:00</td>\n",
       "      <td>3.864454</td>\n",
       "      <td>3.917633</td>\n",
       "      <td>5.770387</td>\n",
       "      <td>5.466342</td>\n",
       "      <td>1.487525</td>\n",
       "      <td>3.920452</td>\n",
       "      <td>119540</td>\n",
       "      <td>1068343656</td>\n",
       "    </tr>\n",
       "    <tr>\n",
       "      <th>2</th>\n",
       "      <td>2016-06-20 01:00:00</td>\n",
       "      <td>4.833561</td>\n",
       "      <td>4.919651</td>\n",
       "      <td>5.647410</td>\n",
       "      <td>5.081787</td>\n",
       "      <td>1.713910</td>\n",
       "      <td>5.359955</td>\n",
       "      <td>56340</td>\n",
       "      <td>717709088</td>\n",
       "    </tr>\n",
       "    <tr>\n",
       "      <th>3</th>\n",
       "      <td>2016-06-20 01:30:00</td>\n",
       "      <td>3.027618</td>\n",
       "      <td>3.058674</td>\n",
       "      <td>5.850479</td>\n",
       "      <td>5.640562</td>\n",
       "      <td>1.299512</td>\n",
       "      <td>3.171449</td>\n",
       "      <td>222962</td>\n",
       "      <td>719840124</td>\n",
       "    </tr>\n",
       "    <tr>\n",
       "      <th>4</th>\n",
       "      <td>2016-06-20 02:00:00</td>\n",
       "      <td>4.701964</td>\n",
       "      <td>4.778389</td>\n",
       "      <td>5.660520</td>\n",
       "      <td>5.049762</td>\n",
       "      <td>1.636912</td>\n",
       "      <td>4.494734</td>\n",
       "      <td>52818</td>\n",
       "      <td>935838310</td>\n",
       "    </tr>\n",
       "  </tbody>\n",
       "</table>\n",
       "</div>"
      ],
      "text/plain": [
       "                 time     H(sa)     H(da)     H(sp)     H(dp)    H(flg)  \\\n",
       "0 2016-06-20 00:00:00  4.786381  4.849955  5.581641  5.077501  1.759142   \n",
       "1 2016-06-20 00:30:00  3.864454  3.917633  5.770387  5.466342  1.487525   \n",
       "2 2016-06-20 01:00:00  4.833561  4.919651  5.647410  5.081787  1.713910   \n",
       "3 2016-06-20 01:30:00  3.027618  3.058674  5.850479  5.640562  1.299512   \n",
       "4 2016-06-20 02:00:00  4.701964  4.778389  5.660520  5.049762  1.636912   \n",
       "\n",
       "     H(byt)   Flows       Bytes  \n",
       "0  5.312246   45668   654268794  \n",
       "1  3.920452  119540  1068343656  \n",
       "2  5.359955   56340   717709088  \n",
       "3  3.171449  222962   719840124  \n",
       "4  4.494734   52818   935838310  "
      ]
     },
     "execution_count": 99,
     "metadata": {},
     "output_type": "execute_result"
    }
   ],
   "source": [
    "df_agg.head()"
   ]
  },
  {
   "cell_type": "code",
   "execution_count": 101,
   "metadata": {},
   "outputs": [
    {
     "data": {
      "image/png": "[encoded data removed]",
      "text/plain": [
       "<Figure size 432x288 with 2 Axes>"
      ]
     },
     "metadata": {},
     "output_type": "display_data"
    }
   ],
   "source": [
    "# plot raw agg stats\n",
    "fig, ax = plt.subplots(1)\n",
    "ax.plot(df_agg['time'], df_agg['Flows'])\n",
    "ax.scatter(X_spam, Y_spam, size_spam, color='red')\n",
    "ax.set_xlim(xmin=pd.to_datetime(\"2016-06-20 00:00:00\"), \n",
    "            xmax=pd.to_datetime(\"2016-06-22 23:59:00\"))\n",
    "ax.set_ylabel(\"Number of Flows\")\n",
    "\n",
    "ax2 = ax.twinx()\n",
    "ax2.plot(df_agg['time'], df_agg['Flows'], color = \"green\")\n",
    "ax2.set_ylabel(\"Bytes\")\n",
    "\n",
    "fig.autofmt_xdate()\n",
    "ax.fmt_xdata = mdates.DateFormatter('%m-%d %H:%S')"
   ]
  },
  {
   "cell_type": "code",
   "execution_count": 207,
   "metadata": {},
   "outputs": [
    {
     "data": {
      "image/png": "[encoded data removed]",
      "text/plain": [
       "<Figure size 432x288 with 1 Axes>"
      ]
     },
     "metadata": {},
     "output_type": "display_data"
    }
   ],
   "source": [
    "# plot entropy values\n",
    "fig, ax = plt.subplots(1)\n",
    "ax.plot(df_agg['time'], df_agg[[\"H(sa)\", \"H(da)\", \"H(sp)\", \"H(dp)\", \"H(flg)\", \"H(byt)\"]])\n",
    "# ax.scatter(X, Y, S, color='red')\n",
    "ax.scatter(X_spam, Y_spam, size_spam, color='red')\n",
    "\n",
    "ax.set_xlim(xmin=pd.to_datetime(\"2016-06-20 00:00:00\"), \n",
    "            xmax=pd.to_datetime(\"2016-06-22 23:59:00\"))\n",
    "ax.set_ylabel(\"Entropy\")\n",
    "\n",
    "fig.autofmt_xdate()\n",
    "labels = [\"H(sa)\", \"H(da)\", \"H(sp)\", \"H(dp)\", \"H(flg)\", \"H(byt)\"]\n",
    "fig.legend(labels)\n",
    "ax.fmt_xdata = mdates.DateFormatter('%m-%d %H:%S')"
   ]
  },
  {
   "cell_type": "markdown",
   "metadata": {},
   "source": [
    "## OCSVM"
   ]
  },
  {
   "cell_type": "code",
   "execution_count": 422,
   "metadata": {},
   "outputs": [],
   "source": [
    "# label data\n",
    "data = pd.merge(df_agg, df_anom, how='left')\n",
    "# data.rename(columns={'anomaly-spam':'label'}, inplace=True)\n",
    "\n",
    "# class 1 (normal) and class -1 (attack)\n",
    "data.loc[data['anomaly-spam'] == 0, \"attack\"] = 1  \n",
    "data.loc[data['anomaly-spam'] > 0, \"attack\"] = -1\n",
    "\n",
    "# cheat by making spam super extreme\n",
    "# data.loc[data['attack']==-1, 'H(sa)'] = 10\n",
    "# data.loc[data['attack']==-1, 'H(da)'] = 10"
   ]
  },
  {
   "cell_type": "code",
   "execution_count": 423,
   "metadata": {},
   "outputs": [],
   "source": [
    "# relevant_features = [\"H(sa)\", \"H(da)\", \"H(sp)\", \"H(dp)\", \"H(flg)\", \"H(byt)\", \"Flows\", \"Bytes\"] \n",
    "# relevant_features = [\"H(sa)\", \"H(da)\", \"H(sp)\", \"H(dp)\", \"H(flg)\", \"H(byt)\"] \n",
    "relevant_features = [\"H(sa)\", \"H(da)\"] \n",
    "\n",
    "relevant_columns = relevant_features + [\"attack\"]\n",
    "\n",
    "data = data[relevant_columns]\n",
    "\n",
    "# normalize\n",
    "# for feat in relevant_features:\n",
    "#     data[feat] = np.log((data[feat] + 0.1).astype(float))"
   ]
  },
  {
   "cell_type": "code",
   "execution_count": 424,
   "metadata": {},
   "outputs": [
    {
     "data": {
      "text/html": [
       "<div>\n",
       "<style>\n",
       "    .dataframe thead tr:only-child th {\n",
       "        text-align: right;\n",
       "    }\n",
       "\n",
       "    .dataframe thead th {\n",
       "        text-align: left;\n",
       "    }\n",
       "\n",
       "    .dataframe tbody tr th {\n",
       "        vertical-align: top;\n",
       "    }\n",
       "</style>\n",
       "<table border=\"1\" class=\"dataframe\">\n",
       "  <thead>\n",
       "    <tr style=\"text-align: right;\">\n",
       "      <th></th>\n",
       "      <th>H(sa)</th>\n",
       "      <th>H(da)</th>\n",
       "      <th>attack</th>\n",
       "    </tr>\n",
       "  </thead>\n",
       "  <tbody>\n",
       "    <tr>\n",
       "      <th>0</th>\n",
       "      <td>4.786381</td>\n",
       "      <td>4.849955</td>\n",
       "      <td>1.0</td>\n",
       "    </tr>\n",
       "    <tr>\n",
       "      <th>1</th>\n",
       "      <td>3.864454</td>\n",
       "      <td>3.917633</td>\n",
       "      <td>1.0</td>\n",
       "    </tr>\n",
       "    <tr>\n",
       "      <th>2</th>\n",
       "      <td>4.833561</td>\n",
       "      <td>4.919651</td>\n",
       "      <td>1.0</td>\n",
       "    </tr>\n",
       "    <tr>\n",
       "      <th>3</th>\n",
       "      <td>3.027618</td>\n",
       "      <td>3.058674</td>\n",
       "      <td>1.0</td>\n",
       "    </tr>\n",
       "    <tr>\n",
       "      <th>4</th>\n",
       "      <td>4.701964</td>\n",
       "      <td>4.778389</td>\n",
       "      <td>1.0</td>\n",
       "    </tr>\n",
       "  </tbody>\n",
       "</table>\n",
       "</div>"
      ],
      "text/plain": [
       "      H(sa)     H(da)  attack\n",
       "0  4.786381  4.849955     1.0\n",
       "1  3.864454  3.917633     1.0\n",
       "2  4.833561  4.919651     1.0\n",
       "3  3.027618  3.058674     1.0\n",
       "4  4.701964  4.778389     1.0"
      ]
     },
     "execution_count": 424,
     "metadata": {},
     "output_type": "execute_result"
    }
   ],
   "source": [
    "data.head()"
   ]
  },
  {
   "cell_type": "code",
   "execution_count": 425,
   "metadata": {},
   "outputs": [
    {
     "data": {
      "text/plain": [
       "array([[<matplotlib.axes._subplots.AxesSubplot object at 0x7f060e560a58>,\n",
       "        <matplotlib.axes._subplots.AxesSubplot object at 0x7f060e517630>],\n",
       "       [<matplotlib.axes._subplots.AxesSubplot object at 0x7f060e5388d0>,\n",
       "        <matplotlib.axes._subplots.AxesSubplot object at 0x7f060e4d8b00>]],\n",
       "      dtype=object)"
      ]
     },
     "execution_count": 425,
     "metadata": {},
     "output_type": "execute_result"
    },
    {
     "data": {
      "image/png": "[encoded data removed]",
      "text/plain": [
       "<Figure size 720x720 with 4 Axes>"
      ]
     },
     "metadata": {},
     "output_type": "display_data"
    }
   ],
   "source": [
    "# visualize the data\n",
    "from pandas.plotting import scatter_matrix\n",
    "colors = np.where(data['attack']==1,'b','r')\n",
    "scatter_matrix(data[relevant_features], c=colors, figsize=(10,10))"
   ]
  },
  {
   "cell_type": "code",
   "execution_count": 426,
   "metadata": {},
   "outputs": [
    {
     "name": "stdout",
     "output_type": "stream",
     "text": [
      "outliers.shape (40,)\n",
      "outliers fraction 0.2777777777777778\n"
     ]
    }
   ],
   "source": [
    "target = data['attack']\n",
    "outliers = target[target == -1]\n",
    "print(\"outliers.shape\", outliers.shape)\n",
    "print(\"outliers fraction\", outliers.shape[0]/target.shape[0])"
   ]
  },
  {
   "cell_type": "code",
   "execution_count": 415,
   "metadata": {},
   "outputs": [
    {
     "data": {
      "text/plain": [
       "(144, 2)"
      ]
     },
     "execution_count": 415,
     "metadata": {},
     "output_type": "execute_result"
    }
   ],
   "source": [
    "# drop label and attack for unsupervised learning\n",
    "data.drop(['attack'], axis = 1, inplace=True)\n",
    "data.shape"
   ]
  },
  {
   "cell_type": "code",
   "execution_count": 416,
   "metadata": {},
   "outputs": [
    {
     "name": "stderr",
     "output_type": "stream",
     "text": [
      "/usr/lib/python3.6/site-packages/sklearn/model_selection/_split.py:2010: FutureWarning: From version 0.21, test_size will always complement train_size unless both are specified.\n",
      "  FutureWarning)\n"
     ]
    },
    {
     "data": {
      "text/plain": [
       "(115, 2)"
      ]
     },
     "execution_count": 416,
     "metadata": {},
     "output_type": "execute_result"
    }
   ],
   "source": [
    "# split data into training and test sets\n",
    "from sklearn.model_selection import train_test_split  \n",
    "train_data, test_data, train_target, test_target = train_test_split(data, target, train_size = 0.8)  \n",
    "train_data.shape  "
   ]
  },
  {
   "cell_type": "code",
   "execution_count": 417,
   "metadata": {},
   "outputs": [
    {
     "name": "stdout",
     "output_type": "stream",
     "text": [
      "nu 0.2777777777777778\n"
     ]
    },
    {
     "data": {
      "text/plain": [
       "OneClassSVM(cache_size=200, coef0=0.0, degree=3, gamma=0.0001, kernel='rbf',\n",
       "      max_iter=-1, nu=0.2777777777777778, random_state=None,\n",
       "      shrinking=True, tol=0.001, verbose=False)"
      ]
     },
     "execution_count": 417,
     "metadata": {},
     "output_type": "execute_result"
    }
   ],
   "source": [
    "from sklearn import svm\n",
    "\n",
    "nu = outliers.shape[0] / target.shape[0]\n",
    "print(\"nu\", nu)\n",
    "\n",
    "model = svm.OneClassSVM(nu=nu, kernel=\"rbf\", gamma=0.0001)\n",
    "\n",
    "model.fit(train_data)"
   ]
  },
  {
   "cell_type": "code",
   "execution_count": 418,
   "metadata": {},
   "outputs": [
    {
     "name": "stdout",
     "output_type": "stream",
     "text": [
      "accuracy:  0.782608695652174\n",
      "precision:  0.8589743589743589\n",
      "recall:  0.8271604938271605\n",
      "f1:  0.8427672955974842\n",
      "area under curve (auc):  0.7518155410312274\n"
     ]
    }
   ],
   "source": [
    "from sklearn import metrics  \n",
    "preds = model.predict(train_data)  \n",
    "targs = train_target\n",
    "\n",
    "print(\"accuracy: \", metrics.accuracy_score(targs, preds))  \n",
    "print(\"precision: \", metrics.precision_score(targs, preds))  \n",
    "print(\"recall: \", metrics.recall_score(targs, preds))  \n",
    "print(\"f1: \", metrics.f1_score(targs, preds))  \n",
    "print(\"area under curve (auc): \", metrics.roc_auc_score(targs, preds))  "
   ]
  },
  {
   "cell_type": "code",
   "execution_count": 419,
   "metadata": {},
   "outputs": [
    {
     "name": "stdout",
     "output_type": "stream",
     "text": [
      "accuracy:  0.6551724137931034\n",
      "precision:  0.8823529411764706\n",
      "recall:  0.6521739130434783\n",
      "f1:  0.75\n",
      "area under curve (auc):  0.6594202898550726\n"
     ]
    }
   ],
   "source": [
    "preds = model.predict(test_data)  \n",
    "targs = test_target\n",
    "\n",
    "print(\"accuracy: \", metrics.accuracy_score(targs, preds))  \n",
    "print(\"precision: \", metrics.precision_score(targs, preds))  \n",
    "print(\"recall: \", metrics.recall_score(targs, preds))  \n",
    "print(\"f1: \", metrics.f1_score(targs, preds))  \n",
    "print(\"area under curve (auc): \", metrics.roc_auc_score(targs, preds))  "
   ]
  },
  {
   "cell_type": "code",
   "execution_count": 420,
   "metadata": {},
   "outputs": [
    {
     "data": {
      "text/plain": [
       "SVC(C=1.0, cache_size=200, class_weight=None, coef0=0.0,\n",
       "  decision_function_shape='ovr', degree=3, gamma='auto', kernel='rbf',\n",
       "  max_iter=-1, probability=False, random_state=None, shrinking=True,\n",
       "  tol=0.001, verbose=False)"
      ]
     },
     "execution_count": 420,
     "metadata": {},
     "output_type": "execute_result"
    }
   ],
   "source": [
    "# try with 2 class SVM\n",
    "model_svm = svm.SVC()\n",
    "model_svm.fit(train_data, train_target)"
   ]
  },
  {
   "cell_type": "code",
   "execution_count": 421,
   "metadata": {},
   "outputs": [
    {
     "name": "stdout",
     "output_type": "stream",
     "text": [
      "accuracy:  1.0\n",
      "precision:  1.0\n",
      "recall:  1.0\n",
      "f1:  1.0\n",
      "area under curve (auc):  1.0\n"
     ]
    }
   ],
   "source": [
    "preds = model_svm.predict(train_data)  \n",
    "targs = train_target\n",
    "\n",
    "print(\"accuracy: \", metrics.accuracy_score(targs, preds))  \n",
    "print(\"precision: \", metrics.precision_score(targs, preds))  \n",
    "print(\"recall: \", metrics.recall_score(targs, preds))  \n",
    "print(\"f1: \", metrics.f1_score(targs, preds))  \n",
    "print(\"area under curve (auc): \", metrics.roc_auc_score(targs, preds))  "
   ]
  },
  {
   "cell_type": "code",
   "execution_count": 409,
   "metadata": {},
   "outputs": [
    {
     "name": "stdout",
     "output_type": "stream",
     "text": [
      "accuracy:  1.0\n",
      "precision:  1.0\n",
      "recall:  1.0\n",
      "f1:  1.0\n",
      "area under curve (auc):  1.0\n"
     ]
    }
   ],
   "source": [
    "preds = model_svm.predict(test_data)  \n",
    "targs = test_target\n",
    "\n",
    "print(\"accuracy: \", metrics.accuracy_score(targs, preds))  \n",
    "print(\"precision: \", metrics.precision_score(targs, preds))  \n",
    "print(\"recall: \", metrics.recall_score(targs, preds))  \n",
    "print(\"f1: \", metrics.f1_score(targs, preds))  \n",
    "print(\"area under curve (auc): \", metrics.roc_auc_score(targs, preds))  "
   ]
  },
  {
   "cell_type": "code",
   "execution_count": null,
   "metadata": {},
   "outputs": [],
   "source": []
  }
 ],
 "metadata": {
  "kernelspec": {
   "display_name": "Python 3",
   "language": "python",
   "name": "python3"
  },
  "language_info": {
   "codemirror_mode": {
    "name": "ipython",
    "version": 3
   },
   "file_extension": ".py",
   "mimetype": "text/x-python",
   "name": "python",
   "nbconvert_exporter": "python",
   "pygments_lexer": "ipython3",
   "version": "3.6.5"
  }
 },
 "nbformat": 4,
 "nbformat_minor": 2
}
