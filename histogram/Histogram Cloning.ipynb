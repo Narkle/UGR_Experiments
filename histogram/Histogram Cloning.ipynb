{
 "cells": [
  {
   "cell_type": "markdown",
   "metadata": {},
   "source": [
    "# Histrogram Cloning and Detection\n",
    "\n",
    "Ref: Anomaly Extraction and Backbon networks using association rules\n",
    "\n",
    "Histogram cloning: to obtain additional traffic views the distribution of a traffic feature is tracked by multiple histogram clones"
   ]
  },
  {
   "cell_type": "code",
   "execution_count": 47,
   "metadata": {},
   "outputs": [
    {
     "name": "stdout",
     "output_type": "stream",
     "text": [
      "The autoreload extension is already loaded. To reload it, use:\n",
      "  %reload_ext autoreload\n"
     ]
    }
   ],
   "source": [
    "%load_ext autoreload\n",
    "%autoreload 2\n",
    "%matplotlib inline\n",
    "\n",
    "import pandas as pd\n",
    "import numpy as np\n",
    "import matplotlib.pyplot as plt\n",
    "from scipy.stats import entropy\n",
    "import datetime\n",
    "\n",
    "from hashing import HashFunction"
   ]
  },
  {
   "cell_type": "code",
   "execution_count": 105,
   "metadata": {},
   "outputs": [],
   "source": [
    "filename = '../datasets/2016-04-08_1000.csv'\n",
    "df = pd.read_csv(filename)\n",
    "df['te'] = pd.to_datetime(df['te'])"
   ]
  },
  {
   "cell_type": "code",
   "execution_count": 106,
   "metadata": {},
   "outputs": [
    {
     "data": {
      "text/html": [
       "<div>\n",
       "<style scoped>\n",
       "    .dataframe tbody tr th:only-of-type {\n",
       "        vertical-align: middle;\n",
       "    }\n",
       "\n",
       "    .dataframe tbody tr th {\n",
       "        vertical-align: top;\n",
       "    }\n",
       "\n",
       "    .dataframe thead th {\n",
       "        text-align: right;\n",
       "    }\n",
       "</style>\n",
       "<table border=\"1\" class=\"dataframe\">\n",
       "  <thead>\n",
       "    <tr style=\"text-align: right;\">\n",
       "      <th></th>\n",
       "      <th>te</th>\n",
       "      <th>td</th>\n",
       "      <th>sa</th>\n",
       "      <th>da</th>\n",
       "      <th>sp</th>\n",
       "      <th>dp</th>\n",
       "      <th>pr</th>\n",
       "      <th>flg</th>\n",
       "      <th>fwd</th>\n",
       "      <th>stos</th>\n",
       "      <th>pkt</th>\n",
       "      <th>byt</th>\n",
       "      <th>type</th>\n",
       "    </tr>\n",
       "  </thead>\n",
       "  <tbody>\n",
       "    <tr>\n",
       "      <th>0</th>\n",
       "      <td>2016-04-08 00:00:00</td>\n",
       "      <td>0.0</td>\n",
       "      <td>42.219.156.198</td>\n",
       "      <td>143.72.8.137</td>\n",
       "      <td>60602</td>\n",
       "      <td>53</td>\n",
       "      <td>UDP</td>\n",
       "      <td>.A....</td>\n",
       "      <td>0</td>\n",
       "      <td>0</td>\n",
       "      <td>1</td>\n",
       "      <td>82</td>\n",
       "      <td>background</td>\n",
       "    </tr>\n",
       "    <tr>\n",
       "      <th>1</th>\n",
       "      <td>2016-04-08 00:00:00</td>\n",
       "      <td>0.0</td>\n",
       "      <td>64.208.211.232</td>\n",
       "      <td>42.219.155.28</td>\n",
       "      <td>41282</td>\n",
       "      <td>443</td>\n",
       "      <td>TCP</td>\n",
       "      <td>...R..</td>\n",
       "      <td>0</td>\n",
       "      <td>8</td>\n",
       "      <td>1</td>\n",
       "      <td>40</td>\n",
       "      <td>background</td>\n",
       "    </tr>\n",
       "    <tr>\n",
       "      <th>2</th>\n",
       "      <td>2016-04-08 00:00:01</td>\n",
       "      <td>0.0</td>\n",
       "      <td>204.97.46.117</td>\n",
       "      <td>42.219.152.249</td>\n",
       "      <td>39710</td>\n",
       "      <td>53</td>\n",
       "      <td>UDP</td>\n",
       "      <td>.A....</td>\n",
       "      <td>0</td>\n",
       "      <td>0</td>\n",
       "      <td>1</td>\n",
       "      <td>88</td>\n",
       "      <td>background</td>\n",
       "    </tr>\n",
       "    <tr>\n",
       "      <th>3</th>\n",
       "      <td>2016-04-08 00:00:01</td>\n",
       "      <td>0.0</td>\n",
       "      <td>32.166.116.224</td>\n",
       "      <td>42.219.152.249</td>\n",
       "      <td>0</td>\n",
       "      <td>2816</td>\n",
       "      <td>ICMP</td>\n",
       "      <td>.A....</td>\n",
       "      <td>0</td>\n",
       "      <td>72</td>\n",
       "      <td>1</td>\n",
       "      <td>56</td>\n",
       "      <td>background</td>\n",
       "    </tr>\n",
       "    <tr>\n",
       "      <th>4</th>\n",
       "      <td>2016-04-08 00:00:01</td>\n",
       "      <td>0.0</td>\n",
       "      <td>42.219.156.211</td>\n",
       "      <td>67.205.239.149</td>\n",
       "      <td>443</td>\n",
       "      <td>58336</td>\n",
       "      <td>TCP</td>\n",
       "      <td>.A....</td>\n",
       "      <td>0</td>\n",
       "      <td>0</td>\n",
       "      <td>1</td>\n",
       "      <td>40</td>\n",
       "      <td>background</td>\n",
       "    </tr>\n",
       "  </tbody>\n",
       "</table>\n",
       "</div>"
      ],
      "text/plain": [
       "                   te   td              sa              da     sp     dp  \\\n",
       "0 2016-04-08 00:00:00  0.0  42.219.156.198    143.72.8.137  60602     53   \n",
       "1 2016-04-08 00:00:00  0.0  64.208.211.232   42.219.155.28  41282    443   \n",
       "2 2016-04-08 00:00:01  0.0   204.97.46.117  42.219.152.249  39710     53   \n",
       "3 2016-04-08 00:00:01  0.0  32.166.116.224  42.219.152.249      0   2816   \n",
       "4 2016-04-08 00:00:01  0.0  42.219.156.211  67.205.239.149    443  58336   \n",
       "\n",
       "     pr     flg  fwd  stos  pkt  byt        type  \n",
       "0   UDP  .A....    0     0    1   82  background  \n",
       "1   TCP  ...R..    0     8    1   40  background  \n",
       "2   UDP  .A....    0     0    1   88  background  \n",
       "3  ICMP  .A....    0    72    1   56  background  \n",
       "4   TCP  .A....    0     0    1   40  background  "
      ]
     },
     "execution_count": 106,
     "metadata": {},
     "output_type": "execute_result"
    }
   ],
   "source": [
    "df.head()"
   ]
  },
  {
   "cell_type": "code",
   "execution_count": 107,
   "metadata": {},
   "outputs": [],
   "source": [
    "# Phase 1: Compute KL divergence of source IP\n",
    "srcIPHasher = HashFunction(length=5)"
   ]
  },
  {
   "cell_type": "code",
   "execution_count": 108,
   "metadata": {},
   "outputs": [
    {
     "name": "stdout",
     "output_type": "stream",
     "text": [
      "[40, 177, 42, 52, 44, 26, 21, 42, 30, 37, 45, 32, 24, 36, 18, 25, 35, 24, 36, 17, 15, 21, 15, 27, 33, 58, 32, 42, 167, 34, 17, 20]\n"
     ]
    },
    {
     "data": {
      "text/plain": [
       "<BarContainer object of 32 artists>"
      ]
     },
     "execution_count": 108,
     "metadata": {},
     "output_type": "execute_result"
    },
    {
     "data": {
      "image/png": "[encoded data removed]",
      "text/plain": [
       "<Figure size 432x288 with 2 Axes>"
      ]
     },
     "metadata": {},
     "output_type": "display_data"
    }
   ],
   "source": [
    "# get some 15 minute block\n",
    "testWindow1 = df[df['te'] < pd.to_datetime('2016-04-08 00:15:00')]\n",
    "testWindow2 = df[(df['te'] > pd.to_datetime('2016-04-08 00:15:00')) & \n",
    "                 (df['te'] < pd.to_datetime('2016-04-08 00:30:00'))]\n",
    "\n",
    "def getHist(df_window):\n",
    "    hist = [0 for i in range(srcIPHasher.nBins)]\n",
    "    for _, row in df_window.iterrows():\n",
    "        sa = row['sa']\n",
    "        hist[srcIPHasher.hash(sa)] += 1\n",
    "    return hist\n",
    "\n",
    "hist1 = getHist(testWindow1)\n",
    "hist2 = getHist(testWindow2)\n",
    "\n",
    "print(hist1)\n",
    "# plot them side by side\n",
    "plt.figure(1)\n",
    "plt.subplot(121)\n",
    "plt.bar(range(srcIPHasher.nBins), hist1)\n",
    "plt.subplot(122)\n",
    "plt.bar(range(srcIPHasher.nBins), hist2)"
   ]
  },
  {
   "cell_type": "code",
   "execution_count": 109,
   "metadata": {},
   "outputs": [
    {
     "name": "stdout",
     "output_type": "stream",
     "text": [
      "KL between hist2 and hist1 is 0.026501987877244573\n"
     ]
    }
   ],
   "source": [
    "def KL(hist2, hist1):\n",
    "    '''\n",
    "    new one is in the first param\n",
    "    '''\n",
    "    hist2 = [x if x else 1 for x in hist2]\n",
    "    hist1 = [x if x else 1 for x in hist1]\n",
    "    return entropy(hist2, hist1)\n",
    "\n",
    "kl = KL(hist2, hist1)\n",
    "print('KL between hist2 and hist1 is %s' % kl)"
   ]
  },
  {
   "cell_type": "code",
   "execution_count": 110,
   "metadata": {},
   "outputs": [],
   "source": [
    "# Plot the KL Divergence over the entire day\n",
    "cols = [\"te\", \"td\", \"sa\", \"da\", \"sp\", \"dp\", \"pr\", \"flg\", \"fwd\", \"stos\", \"pkt\", \"byt\", \"type\"]\n",
    "\n",
    "chunksize = 20000\n",
    "window_start = None\n",
    "window_end = None\n",
    "windowLength = pd.Timedelta(\"%s minutes\" % 15) # 15 minutes\n",
    "df_window = None\n",
    "df_window = pd.DataFrame(columns=cols)\n",
    "\n",
    "kl_series = []\n",
    "prev_hist = None\n",
    "def process(time, df):\n",
    "    global prev_hist\n",
    "    \n",
    "    hist = getHist(df)\n",
    "    if prev_hist:\n",
    "        kl = KL(hist, prev_hist)\n",
    "        kl_series.append((time, kl))\n",
    "    prev_hist = hist\n",
    "\n",
    "for df in pd.read_csv(filename, chunksize=chunksize, iterator=True):\n",
    "    df.columns = cols\n",
    "    df['te'] = pd.to_datetime(df['te'])\n",
    "    if window_start is None:\n",
    "        t = df.loc[0]['te']\n",
    "        window_start = datetime.datetime(t.year, t.month, t.day)\n",
    "        window_end = window_start + windowLength\n",
    "    df_curr_window = df[(window_start <= df['te']) & (df['te'] < window_end)]\n",
    "    df_next = df[window_end <= df['te']]\n",
    "    if df_curr_window.shape[0] == 0:\n",
    "        break\n",
    "    while df_next.shape[0]:\n",
    "        df_window = df_window.append(df_curr_window)\n",
    "        process(window_start, df_window)\n",
    "        df_window = pd.DataFrame(columns=cols)\n",
    "        window_start, window_end = window_end, window_end + windowLength\n",
    "\n",
    "        df_curr_window = df[(window_start <= df['te']) & (df['te'] < window_end)]\n",
    "        df_next = df[window_end <= df['te']]\n",
    "\n",
    "    df_window = df_window.append(df_curr_window)\n",
    "process(window_start, df_window)\n",
    "\n",
    "kl_series = pd.DataFrame(data=[d[1] for d in kl_series], columns=['kl'], \n",
    "                         index=[d[0] for d in kl_series])"
   ]
  },
  {
   "cell_type": "code",
   "execution_count": 111,
   "metadata": {},
   "outputs": [
    {
     "data": {
      "text/plain": [
       "<StemContainer object of 3 artists>"
      ]
     },
     "execution_count": 111,
     "metadata": {},
     "output_type": "execute_result"
    },
    {
     "data": {
      "image/png": "[encoded data removed]",
      "text/plain": [
       "<Figure size 1296x576 with 2 Axes>"
      ]
     },
     "metadata": {},
     "output_type": "display_data"
    }
   ],
   "source": [
    "# plot kl and kl first difference\n",
    "plt.figure(figsize=(18,8)) # w by h\n",
    "plt.subplot(211)\n",
    "plt.stem(kl_series.index, kl_series.kl)\n",
    "plt.subplot(212)\n",
    "kl_series_diff = kl_series.diff()\n",
    "plt.stem(kl_series_diff.index, kl_series_diff.kl)"
   ]
  },
  {
   "cell_type": "code",
   "execution_count": null,
   "metadata": {},
   "outputs": [],
   "source": []
  }
 ],
 "metadata": {
  "kernelspec": {
   "display_name": "Python 3",
   "language": "python",
   "name": "python3"
  },
  "language_info": {
   "codemirror_mode": {
    "name": "ipython",
    "version": 3
   },
   "file_extension": ".py",
   "mimetype": "text/x-python",
   "name": "python",
   "nbconvert_exporter": "python",
   "pygments_lexer": "ipython3",
   "version": "3.6.5"
  }
 },
 "nbformat": 4,
 "nbformat_minor": 2
}
